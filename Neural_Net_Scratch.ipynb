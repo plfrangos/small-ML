{
 "cells": [
  {
   "cell_type": "code",
   "execution_count": 1,
   "id": "0715445a-cb26-4fb0-b063-27e60401ff14",
   "metadata": {},
   "outputs": [],
   "source": [
    "import numpy as np\n",
    "import nnfs\n",
    "import matplotlib.pyplot as plt \n",
    "%matplotlib inline"
   ]
  },
  {
   "cell_type": "code",
   "execution_count": 2,
   "id": "8b8c37fb-45a6-49df-8fcd-98d2b1b558c2",
   "metadata": {},
   "outputs": [
    {
     "data": {
      "text/plain": [
       "1.0986104"
      ]
     },
     "execution_count": 2,
     "metadata": {},
     "output_type": "execute_result"
    }
   ],
   "source": [
    "class Layer_Dense: \n",
    "    def __init__(self, n_inputs, n_neurons):\n",
    "        self.weights = 0.01 * np.random.randn(n_inputs, n_neurons) # I think in this order we're actually doing the transpose of what we had before \n",
    "        self.biases = np.zeros((1, n_neurons))\n",
    "    def forward(self, inputs): \n",
    "        self.output = np.dot(inputs, self.weights) + self.biases\n",
    "        return self.output\n",
    "\n",
    "class Activation_ReLU:\n",
    "    def forward(self, inputs):\n",
    "        self.output = np.maximum(0, inputs)\n",
    "        return self.output # all of these return values are not actually needed\n",
    "\n",
    "class Activation_Softmax:\n",
    "    def forward(self, inputs):\n",
    "        self.output = np.exp(inputs) / np.sum(np.exp(inputs), axis=1, keepdims=True) #This keepdims=True command is SUPER USEFUL!\n",
    "        return self.output\n",
    "\n",
    "class Loss: \n",
    "    def calculate(self, predictions, results):\n",
    "        sample_losses = self.forward(predictions, results)\n",
    "        data_loss = np.mean(sample_losses)\n",
    "        return data_loss\n",
    "\n",
    "class Categorical_Cross_Entropy_Loss(Loss):\n",
    "    def forward(self, y_pred, y_true):\n",
    "        \"\"\"\n",
    "        First we clip the values of y, then we check to see if we have one-hot encoding or not. Our results\n",
    "        will be an m x n matrix, where m = no. training examples, n = no. of classes being predicted. So for 1\n",
    "        example we'll have our softmax activation being something like [0.5, 0.2, 0.3]. Let's say the real class\n",
    "        was 2 (so 0.3) - What we want is -ln(0.5)*0 -ln(0.2)*0 -ln(0.3), or just -log() of the array at the index.\n",
    "        That complex range(len)) expression is just indexing the matrix (row&column) and range(len)) ensures that we\n",
    "        use every row from the predictions, and pick the right column (according to our true value. If it is 1-hot encoded,\n",
    "        we just use element-wise multipliplication so in each row we'll have [0, x, 0] if the true value was 1 for example. \n",
    "        \"\"\"\n",
    "        clipped_pred = np.clip(y_pred, 1e-7, 1 - 1e-7) # this ensures no y-values are 0 (or 1), preventing log(0) \n",
    "        if len(y_true.shape) == 1: # if true, we're dealing with sparse, not 1-hot encoded values\n",
    "            confidence_values = clipped_pred[range(len(clipped_pred)), y_true] # E.g., if y_true = 2 (class 2) then we only take the log of index 2 in prediction\n",
    "        else:\n",
    "            confidence_values = np.sum(clipped_pred * y_true, axis=1)\n",
    "        negative_log_likelihoods = -np.log(confidence_values)\n",
    "        return negative_log_likelihoods\n",
    "\n",
    "from nnfs.datasets import spiral_data\n",
    "nnfs.init() # sets random seed to 0a \n",
    "X, y = spiral_data(samples=100, classes=3) # X consists of coordinate pairs, y is classification \n",
    "\n",
    "layer1 = Layer_Dense(2,3)\n",
    "layer1.forward(X)\n",
    "activation1 = Activation_ReLU()\n",
    "activation1.forward(layer1.output)\n",
    "layer2 = Layer_Dense(3,3)\n",
    "layer2.forward(activation1.output)\n",
    "activation2 = Activation_Softmax()\n",
    "activation2.forward(layer2.output)\n",
    "my_loss = Categorical_Cross_Entropy_Loss()\n",
    "my_loss.calculate(activation2.output, y)"
   ]
  },
  {
   "cell_type": "code",
   "execution_count": 3,
   "id": "af7e8b17-de9b-49fe-8244-55c8e3ced2f2",
   "metadata": {},
   "outputs": [
    {
     "data": {
      "text/plain": [
       "1.0986104"
      ]
     },
     "execution_count": 3,
     "metadata": {},
     "output_type": "execute_result"
    }
   ],
   "source": [
    "class Layer_Dense: \n",
    "    def __init__(self, n_inputs, n_neurons):\n",
    "        self.weights = 0.01 * np.random.randn(n_inputs, n_neurons)\n",
    "        self.biases = np.zeros((1, n_neurons))\n",
    "    def forward(self, inputs): \n",
    "        self.output = np.dot(inputs, self.weights) + self.biases\n",
    "\n",
    "class Activation_ReLU:\n",
    "    def forward(self, inputs):\n",
    "        self.output = np.maximum(0, inputs)\n",
    "\n",
    "class Activation_Softmax:\n",
    "    def forward(self, inputs):\n",
    "        self.output = np.exp(inputs) / np.sum(np.exp(inputs), axis=1, keepdims=True)\n",
    "\n",
    "class Loss: \n",
    "    def calculate(self, predictions, results):\n",
    "        sample_losses = self.forward(predictions, results)\n",
    "        data_loss = np.mean(sample_losses)\n",
    "        return data_loss\n",
    "\n",
    "class Categorical_Cross_Entropy_Loss(Loss):\n",
    "    def forward(self, y_pred, y_true):\n",
    "        clipped_pred = np.clip(y_pred, 1e-7, 1 - 1e-7)\n",
    "        if len(y_true.shape) == 1:\n",
    "            confidence_values = clipped_pred[range(len(clipped_pred)), y_true]\n",
    "        else:\n",
    "            confidence_values = np.sum(clipped_pred * y_true, axis=1)\n",
    "        negative_log_likelihoods = -np.log(confidence_values)\n",
    "        return negative_log_likelihoods\n",
    "\n",
    "class Accuracy:\n",
    "    def calculate_accuracy(self, predictions, values):\n",
    "        predicted_argmaxes = np.argmax(predictions, axis=1)\n",
    "        if len(values.shape) == 2: \n",
    "            value_argmaxes = np.argmax(values, axis=1)\n",
    "            return np.mean(predicted_argmaxes == value_argmaxes)\n",
    "        else:\n",
    "            return np.mean(predicted_argmaxes == values)\n",
    "            \n",
    "from nnfs.datasets import spiral_data\n",
    "nnfs.init() \n",
    "X, y = spiral_data(samples=100, classes=3)\n",
    "\n",
    "layer1 = Layer_Dense(2, 3)\n",
    "layer1.forward(X)\n",
    "activation1 = Activation_ReLU()\n",
    "activation1.forward(layer1.output)\n",
    "layer2 = Layer_Dense(3, 3)\n",
    "layer2.forward(activation1.output)\n",
    "activation2 = Activation_Softmax()\n",
    "activation2.forward(layer2.output)\n",
    "my_loss = Categorical_Cross_Entropy_Loss()\n",
    "my_loss.calculate(activation2.output, y)"
   ]
  },
  {
   "cell_type": "code",
   "execution_count": null,
   "id": "26022c09-2b6e-49cc-9e07-52fab7b5871a",
   "metadata": {},
   "outputs": [],
   "source": []
  }
 ],
 "metadata": {
  "kernelspec": {
   "display_name": "Python 3 (ipykernel)",
   "language": "python",
   "name": "python3"
  },
  "language_info": {
   "codemirror_mode": {
    "name": "ipython",
    "version": 3
   },
   "file_extension": ".py",
   "mimetype": "text/x-python",
   "name": "python",
   "nbconvert_exporter": "python",
   "pygments_lexer": "ipython3",
   "version": "3.12.4"
  }
 },
 "nbformat": 4,
 "nbformat_minor": 5
}
